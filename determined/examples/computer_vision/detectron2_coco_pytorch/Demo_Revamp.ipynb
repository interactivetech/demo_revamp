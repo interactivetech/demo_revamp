{
 "cells": [
  {
   "cell_type": "markdown",
   "id": "1a75ea8c-ac73-4b71-ac96-c39ecafc79cf",
   "metadata": {},
   "source": [
    "# Demo Revamp\n",
    "* Swappable Datasets\n",
    "* Swappable Model Architectures"
   ]
  },
  {
   "cell_type": "markdown",
   "id": "b57a9696-cdd4-48a9-a0ad-8fe65cc5a7f4",
   "metadata": {},
   "source": [
    "# Dataset 1: Public Sector - FLIR Object Detection Dataset\n",
    "* Details: Dataset of moving objects taken from near infared thermal camera , to aid in self-driving and autonomous vehicles.https://universe.roboflow.com/thermal-imaging-0hwfw/flir-data-set\n",
    "* Classes: (cars, bicycles, people, and dogs)"
   ]
  },
  {
   "cell_type": "code",
   "execution_count": 4,
   "id": "2d508d27-103b-40bf-9ee7-1ff2c02a98d1",
   "metadata": {},
   "outputs": [
    {
     "name": "stdout",
     "output_type": "stream",
     "text": [
      "name: detectron2_const_maskrcnn_flir\n",
      "environment:\n",
      "    image: \"determinedai/example-detectron2:0.6-cuda-10.2-pytorch-1.10\"\n",
      "hyperparameters:\n",
      "  global_batch_size: 8 # Detectron defaults to 16 regardless of N GPUs\n",
      "  model_yaml: models/mask_rcnn_R_50_FPN_noaug_1x.yaml\n",
      "  dataset_name: 'flir-camera-objects'\n",
      "  output_dir: None\n",
      "  fake_data: False\n",
      "searcher:\n",
      "  name: single\n",
      "  metric: bboxAP\n",
      "  max_length: \n",
      "    batches: 9000\n",
      "  smaller_is_better: false\n",
      "resources:\n",
      "    slots_per_trial: 4\n",
      "entrypoint: model_def:DetectronTrial\n",
      "max_restarts: 0\n",
      "min_validation_period:\n",
      "  batches: 100\n"
     ]
    }
   ],
   "source": [
    "# YAML File Defining training Mask RCNN on FLIR DATASET \n",
    "!cat configs/flir_training/const_maskrcnn_flir.yaml"
   ]
  },
  {
   "cell_type": "code",
   "execution_count": null,
   "id": "a1a134f0-6dd6-4a40-b175-8956060dd590",
   "metadata": {},
   "outputs": [],
   "source": [
    "# Train MaskRCNN model on FLIR Object Detection Dataset\n",
    "!det e create configs/flir_training/const_fasterrcnn_flir.yaml -f . "
   ]
  },
  {
   "cell_type": "code",
   "execution_count": 6,
   "id": "eb9d6bac-4636-4eed-b56b-2fd3ac5f06e2",
   "metadata": {},
   "outputs": [
    {
     "name": "stdout",
     "output_type": "stream",
     "text": [
      "name: detectron2_const_fasterrcnn\n",
      "environment:\n",
      "    image: \"determinedai/example-detectron2:0.6-cuda-10.2-pytorch-1.10\"\n",
      "hyperparameters:\n",
      "  global_batch_size: 8 # Detectron defaults to 16 regardless of N GPUs\n",
      "  model_yaml: models/fast_rcnn_R_50_FPN_1x.yaml\n",
      "  dataset_name: 'flir-camera-objects'\n",
      "  output_dir: None\n",
      "  fake_data: False\n",
      "searcher:\n",
      "  name: single\n",
      "  metric: bboxAP\n",
      "  max_length: \n",
      "    batches: 9000\n",
      "  smaller_is_better: false\n",
      "resources:\n",
      "    slots_per_trial: 4\n",
      "entrypoint: model_def:DetectronTrial\n",
      "max_restarts: 0\n",
      "min_validation_period:\n",
      "  batches: 100\n"
     ]
    }
   ],
   "source": [
    "# YAML File Defining training Faster RCNN on FLIR DATASET \n",
    "!cat configs/flir_training/const_fasterrcnn_flir.yaml"
   ]
  },
  {
   "cell_type": "code",
   "execution_count": null,
   "id": "6d40178f-b48d-4670-a0d5-85309fe22072",
   "metadata": {},
   "outputs": [],
   "source": [
    "# Train FasterRCNN model on FLIR Object Detection Dataset\n",
    "!det e create configs/flir_training/const_fasterrcnn_flir.yaml -f . "
   ]
  },
  {
   "cell_type": "markdown",
   "id": "9abe0f98-add6-4f14-9108-bd4ffea87836",
   "metadata": {},
   "source": [
    "# Dataset 2: Healthcare Dataset - Dataset to detect \n",
    "* Details: X class dataset, objects are different bones in the hand. Intention of dataset is to identify bone regions in the hand, and examine if Rheumatology is occuring. https://universe.roboflow.com/roboflow-100/x-ray-rheumatology\n",
    "* Classes: artefact, distal phalanges, fifth metacarpal bone, first metacarpal bone, fourth metacarpal bone, intermediate phalanges, proximal phalanges, radius, second metacarpal bone, soft tissue calcination, third metacarpal bone, ulna\n"
   ]
  },
  {
   "cell_type": "code",
   "execution_count": 7,
   "id": "885a4b33-c62b-4673-9526-3c4ff89f8219",
   "metadata": {},
   "outputs": [
    {
     "name": "stdout",
     "output_type": "stream",
     "text": [
      "name: detectron2_const_maskrcnn_xray\n",
      "environment:\n",
      "    image: \"determinedai/example-detectron2:0.6-cuda-10.2-pytorch-1.10\"\n",
      "hyperparameters:\n",
      "  global_batch_size: 8 # Detectron defaults to 16 regardless of N GPUs\n",
      "  model_yaml: models/mask_rcnn_R_50_FPN_noaug_1x.yaml\n",
      "  dataset_name: 'x-ray-rheumatology'\n",
      "  output_dir: None\n",
      "  fake_data: False\n",
      "searcher:\n",
      "  name: single\n",
      "  metric: bboxAP\n",
      "  max_length: \n",
      "    batches: 9000\n",
      "  smaller_is_better: false\n",
      "resources:\n",
      "    slots_per_trial: 4\n",
      "entrypoint: model_def:DetectronTrial\n",
      "max_restarts: 0\n",
      "min_validation_period:\n",
      "  batches: 100\n"
     ]
    }
   ],
   "source": [
    "# YAML File Defining training Mask RCNN on XRAY DATASET \n",
    "!cat configs/xray_training/const_maskrcnn_xray.yaml"
   ]
  },
  {
   "cell_type": "code",
   "execution_count": null,
   "id": "750bb0a1-eb6e-4052-932c-78050681a410",
   "metadata": {},
   "outputs": [],
   "source": [
    "# Train MaskRCNN model on XRAY Object Detection Dataset\n",
    "!det e create configs/flir_training/const_maskrcnn_flir.yaml -f . "
   ]
  },
  {
   "cell_type": "code",
   "execution_count": 8,
   "id": "f73655f3-3131-4947-8a37-20600a2a59ef",
   "metadata": {},
   "outputs": [
    {
     "name": "stdout",
     "output_type": "stream",
     "text": [
      "name: detectron2_const_fasterrcnn\n",
      "environment:\n",
      "    image: \"determinedai/example-detectron2:0.6-cuda-10.2-pytorch-1.10\"\n",
      "hyperparameters:\n",
      "  global_batch_size: 8 # Detectron defaults to 16 regardless of N GPUs\n",
      "  model_yaml: models/fast_rcnn_R_50_FPN_1x.yaml\n",
      "  dataset_name: 'x-ray-rheumatology'\n",
      "  output_dir: None\n",
      "  fake_data: False\n",
      "searcher:\n",
      "  name: single\n",
      "  metric: bboxAP\n",
      "  max_length: \n",
      "    batches: 9000\n",
      "  smaller_is_better: false\n",
      "resources:\n",
      "    slots_per_trial: 4\n",
      "entrypoint: model_def:DetectronTrial\n",
      "max_restarts: 0\n",
      "min_validation_period:\n",
      "  batches: 100\n"
     ]
    }
   ],
   "source": [
    "# YAML File Defining training FasterRCNN on XRAY DATASET \n",
    "!cat configs/xray_training/const_fasterrcnn_xray.yaml"
   ]
  },
  {
   "cell_type": "code",
   "execution_count": null,
   "id": "c05eee86-6e3b-4ff8-a94c-9c560255844a",
   "metadata": {},
   "outputs": [],
   "source": [
    "# Train FasterRCNN model on XRAY Object Detection Dataset\n",
    "!det e create configs/flir_training/const_fasterrcnn_flir.yaml -f . "
   ]
  }
 ],
 "metadata": {
  "kernelspec": {
   "display_name": "Python 3 (ipykernel)",
   "language": "python",
   "name": "python3"
  },
  "language_info": {
   "codemirror_mode": {
    "name": "ipython",
    "version": 3
   },
   "file_extension": ".py",
   "mimetype": "text/x-python",
   "name": "python",
   "nbconvert_exporter": "python",
   "pygments_lexer": "ipython3",
   "version": "3.8.12"
  }
 },
 "nbformat": 4,
 "nbformat_minor": 5
}
