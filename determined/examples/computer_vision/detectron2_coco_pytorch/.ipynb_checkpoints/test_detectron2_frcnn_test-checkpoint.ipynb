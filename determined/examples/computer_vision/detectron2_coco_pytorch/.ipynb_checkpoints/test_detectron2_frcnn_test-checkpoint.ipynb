{
 "cells": [
  {
   "cell_type": "markdown",
   "id": "c7af8f7e-68b0-46bb-92af-8410fd2d65f6",
   "metadata": {},
   "source": [
    "# Test Model Training"
   ]
  },
  {
   "cell_type": "code",
   "execution_count": null,
   "id": "2994ae4a-ccad-4a3f-bbd6-c1025d9b09b8",
   "metadata": {},
   "outputs": [],
   "source": [
    "import sys"
   ]
  },
  {
   "cell_type": "code",
   "execution_count": null,
   "id": "eb484652-1a78-4629-8a6f-a42576abc006",
   "metadata": {},
   "outputs": [],
   "source": [
    "sys.path.insert(0,'/run/determined/workdir/demo_revamp/determined/examples/computer_vision/detectron2_coco_pytorch/')"
   ]
  },
  {
   "cell_type": "code",
   "execution_count": null,
   "id": "c17c649e-97d0-4166-b66b-8920dafd6935",
   "metadata": {},
   "outputs": [],
   "source": [
    "sys.path"
   ]
  },
  {
   "cell_type": "code",
   "execution_count": null,
   "id": "0b22951f-717a-4982-8fa4-4c53cab45d3a",
   "metadata": {},
   "outputs": [],
   "source": [
    "import detectron2_files"
   ]
  },
  {
   "cell_type": "code",
   "execution_count": null,
   "id": "ea23d093-67e6-42f0-895f-b4a82fd0a487",
   "metadata": {},
   "outputs": [],
   "source": [
    "import torch\n",
    "from detectron2.checkpoint import DetectionCheckpointer\n",
    "from detectron2.config import get_cfg\n",
    "from detectron2.data.catalog import DatasetCatalog, MetadataCatalog\n",
    "\n",
    "from detectron2.modeling import build_model\n",
    "from detectron2.solver import build_lr_scheduler, build_optimizer\n",
    "from detectron2.utils.events import EventStorage\n",
    "from detectron2_files.common import *\n",
    "from detectron2_files.data import *\n",
    "from detectron2_files.evaluator import *\n",
    "from torch import nn\n",
    "from pprint import pprint\n",
    "from detectron2.engine import DefaultPredictor, DefaultTrainer\n",
    "from detectron2.data.datasets import register_coco_instances\n",
    "import random\n",
    "from detectron2.utils.visualizer import Visualizer\n",
    "import matplotlib.pyplot as plt\n",
    "import cv2\n",
    "import os"
   ]
  },
  {
   "cell_type": "code",
   "execution_count": null,
   "id": "61d17e71-5b0a-45cd-90a2-6b5c1c8acec5",
   "metadata": {},
   "outputs": [],
   "source": [
    "cfg = get_cfg()"
   ]
  },
  {
   "cell_type": "code",
   "execution_count": null,
   "id": "24724333-5468-403d-abf6-e2dd7d53e7f2",
   "metadata": {},
   "outputs": [],
   "source": [
    "cfg.DATASETS.TRAIN"
   ]
  },
  {
   "cell_type": "code",
   "execution_count": null,
   "id": "ff259786-02d3-480e-9cd8-21ea1ea44377",
   "metadata": {},
   "outputs": [],
   "source": [
    "# YAML_PATH = '/run/determined/workdir/demo_revamp/determined/examples/computer_vision/detectron2_coco_pytorch/models/mask_rcnn_R_50_FPN_noaug_1x.yaml'\n",
    "YAML_PATH = '/run/determined/workdir/demo_revamp/determined/examples/computer_vision/detectron2_coco_pytorch/models/fast_rcnn_R_50_FPN_1x.yaml'\n",
    "\n",
    "cfg.merge_from_file(YAML_PATH)"
   ]
  },
  {
   "cell_type": "code",
   "execution_count": null,
   "id": "bbb019d2-4cd9-4ba5-b904-80f54796d4c6",
   "metadata": {},
   "outputs": [],
   "source": [
    "# print(cfg.dump())"
   ]
  },
  {
   "cell_type": "code",
   "execution_count": null,
   "id": "cf74eccd-cf7d-43f6-8fb4-c99d61cafc10",
   "metadata": {},
   "outputs": [],
   "source": [
    "# import json"
   ]
  },
  {
   "cell_type": "code",
   "execution_count": null,
   "id": "7e70999e-e8d0-4621-a2ec-cd65fd004568",
   "metadata": {},
   "outputs": [],
   "source": [
    "# train_d = json.load(open('/run/determined/workdir/demo_revamp/determined/tiny-coco/small_coco/instances_train2017_small.json','r'))"
   ]
  },
  {
   "cell_type": "code",
   "execution_count": null,
   "id": "54801c31-242e-47e4-adbc-381a89328c97",
   "metadata": {},
   "outputs": [],
   "source": [
    "# DatasetCatalog.register(\"test_dataset\",lambda: train_d)"
   ]
  },
  {
   "cell_type": "code",
   "execution_count": null,
   "id": "14d23ac6-3abf-49ee-9ae9-bdbeef56c95e",
   "metadata": {},
   "outputs": [],
   "source": [
    "# MetadataCatalog.get(\"test_dataset\")"
   ]
  },
  {
   "cell_type": "code",
   "execution_count": null,
   "id": "678c50ac-78c7-445d-8d93-8098ee728323",
   "metadata": {},
   "outputs": [],
   "source": [
    "roboflow_dataset_dirs = {\n",
    "        'x-ray-rheumatology': '/run/determined/workdir/shared_fs/data/x-ray-rheumatology',\n",
    "        'flir-camera-objects': '/run/determined/workdir/shared_fs/data/flir-camera-objects',\n",
    "    }\n",
    "\n",
    "def register_roboflow_dataset(dataset_name,cfg):\n",
    "    '''\n",
    "    '''\n",
    "    cfg.defrost()\n",
    "    DIR = roboflow_dataset_dirs[dataset_name]\n",
    "    print(\"DIR: \",DIR)\n",
    "    TRAIN_JSON_PATH = os.path.join(DIR,'train/_annotations.coco.json')\n",
    "    TRAIN_IMG_DIR = os.path.join(DIR,'train/')\n",
    "    VAL_JSON_PATH = os.path.join(DIR,'valid/_annotations.coco.json')\n",
    "    VAL_IMG_DIR = os.path.join(DIR,'valid/')\n",
    "    TEST_JSON_PATH = os.path.join(DIR,'test/_annotations.coco.json')\n",
    "    TEST_IMG_DIR = os.path.join(DIR,'test/')\n",
    "    train_dataset_name = \"train_{}\".format(dataset_name)\n",
    "    val_dataset_name=\"val_{}\".format(dataset_name)\n",
    "    test_dataset_name = \"test_{}\".format(dataset_name)\n",
    "    register_coco_instances(train_dataset_name, {}, TRAIN_JSON_PATH, TRAIN_IMG_DIR)\n",
    "    register_coco_instances(val_dataset_name, {}, VAL_JSON_PATH, VAL_IMG_DIR)\n",
    "    register_coco_instances(test_dataset_name, {}, TEST_JSON_PATH, TEST_IMG_DIR)\n",
    "    cfg.DATASETS.TRAIN=(\"train_{}\".format(dataset_name),)\n",
    "    cfg.DATASETS.VAL=(\"val_{}\".format(dataset_name),)\n",
    "    cfg.DATASETS.TEST=(\"test_{}\".format(dataset_name),)\n",
    "    # cfg.freeze()\n",
    "    return cfg, train_dataset_name, val_dataset_name, test_dataset_name"
   ]
  },
  {
   "cell_type": "code",
   "execution_count": null,
   "id": "370ddac1-9e8d-408f-900a-02def42a9d75",
   "metadata": {},
   "outputs": [],
   "source": [
    "dataset_name = 'flir-camera-objects'"
   ]
  },
  {
   "cell_type": "code",
   "execution_count": null,
   "id": "7479e7c3-f937-4278-9532-e8132bfeb5f6",
   "metadata": {},
   "outputs": [],
   "source": [
    "# register_coco_instances(\"coco_custom\", {}, \"/run/determined/workdir/demo_revamp/determined/tiny-coco/small_coco/instances_train2017_small.json\", \"/run/determined/workdir/demo_revamp/determined/tiny-coco/small_coco/train_2017_small\")\n",
    "# DIR = '/run/determined/workdir/shared_fs/data/'\n",
    "# TRAIN_JSON_PATH = os.path.join(DIR,'x-ray-rheumatology-2/train/_annotations.coco.json')\n",
    "# TRAIN_IMG_DIR = os.path.join(DIR,'x-ray-rheumatology-2/train/')\n",
    "# VAL_JSON_PATH = os.path.join(DIR,'x-ray-rheumatology-2/val/_annotations.coco.json')\n",
    "# VAL_IMG_DIR = os.path.join(DIR,'x-ray-rheumatology-2/val/')\n",
    "# TEST_JSON_PATH = os.path.join(DIR,'x-ray-rheumatology-2/test/_annotations.coco.json')\n",
    "# TEST_IMG_DIR = os.path.join(DIR,'x-ray-rheumatology-2/test/')\n",
    "# TRAIN_JSON_PATH\n",
    "\n",
    "cfg, train_dataset_name, val_dataset_name, test_dataset_name = register_roboflow_dataset(dataset_name,cfg)"
   ]
  },
  {
   "cell_type": "code",
   "execution_count": null,
   "id": "bcdb7c2b-cc80-435c-a5d3-b3e3b59c77cc",
   "metadata": {},
   "outputs": [],
   "source": [
    "# register_coco_instances(\"train_med_coco\", {}, TRAIN_JSON_PATH, TRAIN_IMG_DIR)\n",
    "# register_coco_instances(\"val_med_coco\", {}, VAL_JSON_PATH, VAL_IMG_DIR)\n",
    "# register_coco_instances(\"test_med_coco\", {}, TEST_JSON_PATH, TEST_IMG_DIR)"
   ]
  },
  {
   "cell_type": "code",
   "execution_count": null,
   "id": "53985c3a-bdf3-4217-9be4-ca520c1f148c",
   "metadata": {},
   "outputs": [],
   "source": [
    "\n",
    "nuts_metadata = MetadataCatalog.get(train_dataset_name)\n",
    "dataset_dicts = DatasetCatalog.get(train_dataset_name)"
   ]
  },
  {
   "cell_type": "code",
   "execution_count": null,
   "id": "101c56e3-9616-4b8e-81b6-4787a56e049e",
   "metadata": {},
   "outputs": [],
   "source": [
    "nuts_metadata.thing_classes"
   ]
  },
  {
   "cell_type": "code",
   "execution_count": null,
   "id": "cb040717-9a3c-4ddc-898f-0ad63726f050",
   "metadata": {},
   "outputs": [],
   "source": [
    "\n",
    "for d in random.sample(dataset_dicts, 3):\n",
    "    print(d)\n",
    "    img = cv2.imread(d[\"file_name\"])\n",
    "    visualizer = Visualizer(img[:, :], metadata=nuts_metadata , scale=1.2)\n",
    "    vis = visualizer.draw_dataset_dict(d)\n",
    "    plt.imshow(vis.get_image()[:, :])\n",
    "    plt.show()"
   ]
  },
  {
   "cell_type": "raw",
   "id": "86664213-29c5-452c-8187-4535041653a9",
   "metadata": {},
   "source": []
  },
  {
   "cell_type": "code",
   "execution_count": null,
   "id": "46d0348d-4388-4364-b574-6d14833ca386",
   "metadata": {},
   "outputs": [],
   "source": []
  },
  {
   "cell_type": "code",
   "execution_count": null,
   "id": "56902e49-8e61-4fd9-907e-c761f8da924e",
   "metadata": {},
   "outputs": [],
   "source": [
    "# cfg.DATASETS.TRAIN = (\"train_med_coco\",)\n",
    "# cfg.DATASETS.VAL = (\"val_med_coco\",)\n",
    "# cfg.DATASETS.TEST = (\"test_med_coco\",)\n",
    "cfg.DATALOADER.NUM_WORKERS = 4"
   ]
  },
  {
   "cell_type": "code",
   "execution_count": null,
   "id": "2c25f16e-1406-4b82-b391-182d39148263",
   "metadata": {},
   "outputs": [],
   "source": [
    "cfg.SOLVER.IMS_PER_BATCH = 4\n",
    "cfg.SOLVER.BASE_LR = 0.001\n",
    "# cfg.SOLVER.WARMUP_ITERS = 1000\n",
    "# cfg.SOLVER.MAX_ITER = 1500\n",
    "# cfg.SOLVER.STEPS = (1000, 1500)\n",
    "cfg.SOLVER.WARMUP_ITERS = 10\n",
    "cfg.SOLVER.MAX_ITER = 200\n",
    "cfg.SOLVER.STEPS = (20, 30)\n",
    "cfg.SOLVER.GAMMA = 0.05\n",
    "cfg.MODEL.ROI_HEADS.SCORE_THRESH_TEST"
   ]
  },
  {
   "cell_type": "code",
   "execution_count": null,
   "id": "4a034c52-36a3-477c-ad1e-ac841790ffb8",
   "metadata": {},
   "outputs": [],
   "source": [
    "print(cfg.dump())"
   ]
  },
  {
   "cell_type": "code",
   "execution_count": null,
   "id": "1bb11a53-1839-4a7d-83d7-a41008f6ae68",
   "metadata": {},
   "outputs": [],
   "source": [
    "# dataloader = build_detection_train_loader(\n",
    "#             cfg, per_gpu_bs=0, seed=0, rank=0, world_size=0, context='test'\n",
    "#         )"
   ]
  },
  {
   "cell_type": "code",
   "execution_count": null,
   "id": "3024e17e-9590-45e0-b121-26b40e3b3753",
   "metadata": {},
   "outputs": [],
   "source": [
    "cfg.MODEL.ROI_HEADS.SCORE_THRESH_TEST=0.05"
   ]
  },
  {
   "cell_type": "code",
   "execution_count": null,
   "id": "6918325d-11b8-4f61-8bbf-eb417ec04157",
   "metadata": {},
   "outputs": [],
   "source": [
    "import torch"
   ]
  },
  {
   "cell_type": "code",
   "execution_count": null,
   "id": "7004107e-a8d2-425d-b5a0-741aad46c923",
   "metadata": {},
   "outputs": [],
   "source": [
    "# torch.cuda.dev"
   ]
  },
  {
   "cell_type": "code",
   "execution_count": null,
   "id": "11f96aa1-ac08-4dac-9e5f-c7c9a2d7bd5f",
   "metadata": {},
   "outputs": [],
   "source": [
    "\n",
    "\n",
    "cfg.MODEL.DEVICE= 'cuda' if torch.cuda.is_available() else 'cpu'\n",
    "cfg.MODEL.DEVICE"
   ]
  },
  {
   "cell_type": "code",
   "execution_count": null,
   "id": "0a833018-d7df-474b-a07e-ddc07fa2d64e",
   "metadata": {},
   "outputs": [],
   "source": [
    "cfg.OUTPUT_DIR"
   ]
  },
  {
   "cell_type": "code",
   "execution_count": null,
   "id": "45b6508b-5b47-4b41-9dc3-50c0889903b1",
   "metadata": {},
   "outputs": [],
   "source": [
    "os.makedirs(cfg.OUTPUT_DIR, exist_ok=True)"
   ]
  },
  {
   "cell_type": "code",
   "execution_count": null,
   "id": "3039eb79-8890-4dcb-ac55-247dafc1730f",
   "metadata": {},
   "outputs": [],
   "source": [
    "cfg.MODEL.ROI_HEADS.BATCH_SIZE_PER_IMAGE = 64\n",
    "cfg.MODEL.ROI_HEADS.NUM_CLASSES = 80\n",
    "\n",
    "cfg.TEST.EVAL_PERIOD = 3"
   ]
  },
  {
   "cell_type": "code",
   "execution_count": null,
   "id": "525264e5-e9e4-4f43-ab6b-2616cf1c2c41",
   "metadata": {},
   "outputs": [],
   "source": []
  },
  {
   "cell_type": "code",
   "execution_count": null,
   "id": "dd68ac16-ecdb-4d04-a2e2-8bbe7e31f2c5",
   "metadata": {},
   "outputs": [],
   "source": [
    "trainer = DefaultTrainer(cfg)\n",
    "trainer.resume_or_load(resume=False)\n",
    "trainer.train()"
   ]
  },
  {
   "cell_type": "code",
   "execution_count": null,
   "id": "0b4e2033-7940-4037-89b5-6e8ae4975fbb",
   "metadata": {},
   "outputs": [],
   "source": []
  },
  {
   "cell_type": "code",
   "execution_count": null,
   "id": "ba4a415e-0978-485f-a2f4-188875ef337f",
   "metadata": {},
   "outputs": [],
   "source": [
    "cfg.MODEL.WEIGHTS = os.path.join(cfg.OUTPUT_DIR, \"model_final.pth\")\n",
    "cfg.MODEL.ROI_HEADS.SCORE_THRESH_TEST = 0.3\n",
    "predictor = DefaultPredictor(cfg)"
   ]
  },
  {
   "cell_type": "code",
   "execution_count": null,
   "id": "6bc17792-7778-4388-ae49-cb553c84c465",
   "metadata": {},
   "outputs": [],
   "source": [
    "from detectron2.evaluation import COCOEvaluator, inference_on_dataset\n",
    "from detectron2.data import build_detection_test_loader\n",
    "\n",
    "# predictor = DefaultPredictor(cfg)\n",
    "\n",
    "#Call the COCO Evaluator function and pass the Validation Dataset\n",
    "evaluator = COCOEvaluator(\"test_med_coco\", cfg, False, output_dir=\"./output/\")\n",
    "val_loader = build_detection_test_loader(cfg, \"test_med_coco\")\n",
    "\n",
    "#Use the created predicted model in the previous step\n",
    "inference_on_dataset(predictor.model, val_loader, evaluator)"
   ]
  },
  {
   "cell_type": "code",
   "execution_count": null,
   "id": "cc53fe48-6d15-43ad-8f6e-0b9f3f16539a",
   "metadata": {},
   "outputs": [],
   "source": [
    "\n",
    "nuts_metadata = MetadataCatalog.get('test_med_coco')\n",
    "dataset_dicts = DatasetCatalog.get(\"test_med_coco\")"
   ]
  },
  {
   "cell_type": "code",
   "execution_count": null,
   "id": "d2d96a95-33fa-4191-97ba-ab0d301359e7",
   "metadata": {},
   "outputs": [],
   "source": [
    "def predict_batch(predictor, im_list):\n",
    "    with torch.no_grad():  # https://github.com/sphinx-doc/sphinx/issues/4258\n",
    "        inputs_list = []\n",
    "        for original_image in im_list:\n",
    "            # Apply pre-processing to image.\n",
    "            if predictor.input_format == \"RGB\":\n",
    "                # whether the model expects BGR inputs or RGB\n",
    "                original_image = original_image[:, :, ::-1]\n",
    "            height, width = original_image.shape[:2]\n",
    "            # Do not apply original augmentation, which is resize.\n",
    "            # image = predictor.aug.get_transform(original_image).apply_image(original_image)\n",
    "            image = original_image\n",
    "            image = torch.as_tensor(image.astype(\"float32\").transpose(2, 0, 1))\n",
    "            inputs = {\"image\": image, \"height\": height, \"width\": width}\n",
    "            inputs_list.append(inputs)\n",
    "        predictions = predictor.model(inputs_list)\n",
    "        return predictions"
   ]
  },
  {
   "cell_type": "code",
   "execution_count": null,
   "id": "f794e72b-c9b9-4461-ac5c-f0a17ab809d4",
   "metadata": {},
   "outputs": [],
   "source": [
    "\n",
    "for d in random.sample(dataset_dicts, 3):\n",
    "    print(d)\n",
    "    img = cv2.imread(d[\"file_name\"])\n",
    "    outputs_list = predict_batch(predictor, [img])\n",
    "    # print(outputs_list)\n",
    "    visualizer = Visualizer(img[:, :], metadata=nuts_metadata , scale=1.2)\n",
    "    out = visualizer.draw_instance_predictions(outputs_list[0][\"instances\"].to(\"cpu\"))\n",
    "    # vis = visualizer.draw_dataset_dict(d)\n",
    "    plt.imshow(out.get_image()[:, :])\n",
    "    plt.show()"
   ]
  },
  {
   "cell_type": "code",
   "execution_count": null,
   "id": "c8e465fd-7544-448a-b6a4-fe0982f0904f",
   "metadata": {},
   "outputs": [],
   "source": [
    "# evaluator = COCOEvaluator(\"train_med_coco\", cfg, False, output_dir=cfg.OUTPUT_DIR)\n",
    "# # val_loader = build_detection_test_loader(cfg, \"train_med_coco\")\n",
    "# # inference_on_dataset(trainer.model, val_loader, evaluator)"
   ]
  },
  {
   "cell_type": "code",
   "execution_count": null,
   "id": "84a3d214-e94c-4f43-b752-747072e8f4d5",
   "metadata": {},
   "outputs": [],
   "source": [
    "# cfg.MODEL.ROI_HEADS.SCORE_THRESH_TEST"
   ]
  },
  {
   "cell_type": "code",
   "execution_count": null,
   "id": "278d4550-41c5-4139-b442-f468ad510ba0",
   "metadata": {},
   "outputs": [],
   "source": []
  }
 ],
 "metadata": {
  "kernelspec": {
   "display_name": "Python 3 (ipykernel)",
   "language": "python",
   "name": "python3"
  },
  "language_info": {
   "codemirror_mode": {
    "name": "ipython",
    "version": 3
   },
   "file_extension": ".py",
   "mimetype": "text/x-python",
   "name": "python",
   "nbconvert_exporter": "python",
   "pygments_lexer": "ipython3",
   "version": "3.8.15"
  }
 },
 "nbformat": 4,
 "nbformat_minor": 5
}
